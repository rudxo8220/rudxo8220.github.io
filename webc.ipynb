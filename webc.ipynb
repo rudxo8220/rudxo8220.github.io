{
 "metadata": {
  "language_info": {
   "codemirror_mode": {
    "name": "ipython",
    "version": 3
   },
   "file_extension": ".py",
   "mimetype": "text/x-python",
   "name": "python",
   "nbconvert_exporter": "python",
   "pygments_lexer": "ipython3",
   "version": "3.7.7-final"
  },
  "orig_nbformat": 2,
  "kernelspec": {
   "name": "python37764bitcpunotebookcondadfcf63e1c5c7499a9f4c80f9c9d93c92",
   "display_name": "Python 3.7.7 64-bit ('cpuNotebook': conda)"
  }
 },
 "nbformat": 4,
 "nbformat_minor": 2,
 "cells": [
  {
   "cell_type": "code",
   "execution_count": 37,
   "metadata": {},
   "outputs": [],
   "source": [
    "from urllib.request import urlopen\n",
    "from bs4 import BeautifulSoup\n",
    "import re"
   ]
  },
  {
   "cell_type": "code",
   "execution_count": 14,
   "metadata": {},
   "outputs": [],
   "source": [
    "page - list(rage(1,11,1))\n",
    "url = \"https://www.aladin.co.kr/search/wsearchresult.aspx?SearchTarget=All&SearchWord=%ED%97%AC%EC%8A%A4&x=0&y=0\"\n",
    "html = urlopen(url)\n",
    "bsObject = BeautifulSoup(html,\"html.parser\")\n",
    "# parser은 분쇄기?"
   ]
  },
  {
   "cell_type": "code",
   "execution_count": 9,
   "metadata": {},
   "outputs": [
    {
     "output_type": "execute_result",
     "data": {
      "text/plain": "<title id=\"Title\">알라딘</title>"
     },
     "metadata": {},
     "execution_count": 9
    }
   ],
   "source": [
    "bsObject.head.title"
   ]
  },
  {
   "cell_type": "code",
   "execution_count": 11,
   "metadata": {
    "tags": []
   },
   "outputs": [
    {
     "output_type": "stream",
     "name": "stdout",
     "text": "<meta content=\"text/html; charset=utf-8\" http-equiv=\"Content-Type\"/>\n<meta content=\"Microsoft Visual Studio .NET 7.1\" name=\"GENERATOR\"/>\n<meta content=\"C#\" name=\"CODE_LANGUAGE\"/>\n<meta content=\"JavaScript\" name=\"vs_defaultClientScript\"/>\n<meta content=\"http://schemas.microsoft.com/intellisense/ie5\" name=\"vs_targetSchema\"/>\n<meta content=\"IE=edge\" http-equiv=\"X-UA-Compatible\"/>\n"
    }
   ],
   "source": [
    "for m in bsObject.find_all(\"meta\"):\n",
    "    print(m)"
   ]
  },
  {
   "cell_type": "code",
   "execution_count": 54,
   "metadata": {
    "tags": []
   },
   "outputs": [
    {
     "output_type": "stream",
     "name": "stdout",
     "text": "맨즈 헬스 Men's Health A형 2020.8 (표지 : 오지호)\n카이스트, 바이오헬스의 미래를 말하다\n헬스의 정석 : 근력운동 편\n헬스의 정석 : 근력운동편 (체험판)\n헬스의 정석 : 이론편\n디지털 헬스케어\n맨즈헬스 빅북\n좋은 헬스트레이너 되기\n헬스의 정석 : 근력운동편\n불량헬스 2 : 스트렝쓰편\n디지털 헬스케어는 어떻게 비즈니스가 되는가\n헬스의 정석 : 이론편\n불량헬스 : S라인과 식스팩에 돌직구를 날리다\n헬스의 정석 : 이론편 (2019 개정판)(체험판)\n옵티멀 헬스 레볼루션 : 최적건강관리 혁명\n디지털 헬스케어는 어떻게 비즈니스가 되는가\n헬스케어 이노베이션\n맨즈헬스 빅북 (핵심판)\n해양 생물을 이용한 헬스케어\n맨즈헬스 홈닥터\n간고등어 코치 홈헬스 무작정 따라하기 : 남자 명품 복근\n헬스걸 폭풍 다이어트\n디지털 헬스케어\n맨손 헬스\n맨즈헬스 빅북 2\n"
    }
   ],
   "source": [
    "for m in bsObject.find_all('a','bo3'):\n",
    "    for n in m.find_all('b'):\n",
    "        \n",
    "        # print(n)\n",
    "        print(re.sub('<.+?>', '', str(n), 0).strip())\n",
    "\n"
   ]
  },
  {
   "cell_type": "code",
   "execution_count": 56,
   "metadata": {
    "tags": [
     "outputPrepend"
    ]
   },
   "outputs": [
    {
     "output_type": "stream",
     "name": "stdout",
     "text": "r>\n<td align=\"center\" height=\"33\" style=\"text-align: center; border-bottom:1px solid #E6E6E6; border-top:1px solid #E6E6E6\">\n<a class=\"ml05\" href=\"http://www.aladin.co.kr/aladdin/waladdin.aspx?pn=overview\">회사소개</a> <font color=\"#ebebeb\"> l </font>\n<a class=\"ml05\" href=\"/account/waccount_provision.aspx?pType=1\">이용약관</a> <font color=\"#ebebeb\"> l </font>\n<a class=\"ml05\" href=\"/account/waccount_provision.aspx?pType=3\"><strong>개인정보처리방침</strong></a> <font color=\"#ebebeb\"> l </font>\n<a class=\"ml05\" href=\"/account/waccount_provision.aspx?pType=7\">청소년 보호정책</a> <font color=\"#ebebeb\"> l </font>\n<!--<a href=\"http://www.aladin.co.kr/cs_center/wcs_main.aspx\" class=\"ml05\">고객센터</a> <font color=\"#ebebeb\"> l </font>-->\n<a class=\"ml05\" href=\"http://used.aladin.co.kr/usedstore/wgate.aspx\">중고매장</a> <font color=\"#ebebeb\"> l </font>\n<a class=\"new_ml05\" href=\"http://www.aladin.co.kr/partnership/wguide.aspx\">제휴/마케팅 안내</a><font color=\"#ebebeb\"> l </font>\n<a class=\"new_ml05\" href=\"http://www.aladin.co.kr/scm/wmain_login.aspx\">판매자 매니저</a><font color=\"#ebebeb\"> l </font>\n<a class=\"new_ml05\" href=\"http://www.aladin.co.kr/supplier/wmain.aspx\">출판사/공급사 안내</a><font color=\"#ebebeb\"> l </font>\n<a class=\"new_ml05\" href=\"http://www.aladin.co.kr/supplier/wfaq.aspx#7\">광고 안내</a><font color=\"#ebebeb\"> l </font>\n<a class=\"new_ml05\" href=\"http://aladin.co.kr/aladdin/wclassbook_intro.aspx?MenuType=sub0101\">학교/기업/기관 대량구매</a>  \n\t\t    <!--<a href=\"#top\"><img src=\"//image.aladin.co.kr/img/footer/2011/go_top.gif\" border=\"0\" align=\"absmiddle\" /></a>-->\n</td>\n</tr>\n</table>\n<!-- 푸터 메뉴// -->\n<div class=\"footer_wrap\">\n<div class=\"corp_logo\"><a href=\"https://www.aladin.co.kr/home/welcome.aspx\"><img alt=\"알라딘\" border=\"0\" src=\"//image.aladin.co.kr/img/footer/2013/foot_aladin_01.gif\"/></a></div>\n<div class=\"corp_info1\">\n<h3>(주)알라딘커뮤니케이션</h3>\n<ul class=\"info_contact\">\n<li>대표이사 : 최우경</li>\n<li>고객정보보호 책임자 : 최우경</li>\n<li>FAX : 02-6913-2500</li>\n<li>E-mail : privacy@aladin.co.kr</li>\n<li>사업자등록 : <a class=\"footer_blue\" href=\"javascript:fn_ftc_check();\">201-81-23094</a></li>\n<li>통신판매업신고 : 중구01520호</li>\n<li style=\"clear:left; width:100%\">호스팅 제공자 : 알라딘커뮤니케이션</li>\n<li style=\"clear:left; width:100%\">(본사) 서울시 중구 서소문로 26 <a class=\"footer_blue\" href=\"http://www.aladin.co.kr/aladdin/waladdin.aspx?pn=contactus\">약도</a> ㅣ (중고매장) <a class=\"footer_blue\" href=\"https://www.aladin.co.kr/usedstore/wgate.aspx\">자세히보기</a></li>\n</ul>\n<div class=\"info_copyright\">ⓒ Aladin Communication. All Rights Reserved.</div>\n</div>\n<div class=\"corp_info2\">\n<div class=\"info_call \">고객센터 일반문의 (발신자 부담) <span>1544-2514</span>\n<div>\n<p class=\"contact_one\"><a href=\"https://www.aladin.co.kr/cs_center/wcs_ConsultQS.aspx?NoLoginQ=1\">1:1 문의</a></p><p class=\"list_faq\" style=\"margin-left:5px;\"><a href=\"https://www.aladin.co.kr/cs_center/wcs_faq_list.aspx\">FAQ</a></p>\n</div>\n</div>\n<div class=\"info_call \">중고샵/매장문의(해피콜) <span>02-364-8947</span><p class=\"list_store\"><a href=\"https://www.aladin.co.kr/usedstore/wgate.aspx\">중고매장 위치, 영업시간 안내</a></p></div>\n<div class=\"escrow_sub\">구매안전 에스크로 서비스 : <a class=\"footer_blue\" href=\"javascript:fn_kcp_es_check();\">서비스 가입 확인</a></div>\n</div>\n</div>\n<div style=\"clear:both;height:20px;\"></div>\n<script type=\"text/javascript\">\n    function fn_ftc_check() {\n        var url =\"http://www.ftc.go.kr/info/bizinfo/communicationViewPopup.jsp?wrkr_no=2018123094\";\n        window.open(url, \"communicationViewPopup\", \"width=750, height=700;\");\n    }\n</script>\n</div>\n<div style=\"clear:both;padding:19px 0 0 0\"></div>\n<div style=\"text-align:center;background:url(//image.aladin.co.kr/img/footer/2011/footer_bg.gif);z-index:10;\">\n<form action=\"/search/wsearchresult.aspx\" id=\"footer_QuickSearch\" method=\"post\" name=\"footer_QuickSearch\" style=\"display:inline;\">\n<div class=\"nfoot_w\">\n<!-- 검색 대상 선택 -->\n<div class=\"box_sp1\" id=\"searchTargetDropDownBtnF\">\n<a href=\"#\" id=\"searchTargetDesc2\">국내도서</a>\n<div id=\"searchTargetDropDown2\" style=\"display:none;position:absolute;margin-top:-400px;margin-top:-410px\\9;\">\n<table cellpadding=\"0\" cellspacing=\"2\" style=\"border:2px solid #5397D0;\" width=\"88px;\">\n<tr><td><a class=\"blue02\" href=\"#\" onclick=\"javascript:searchTargetChange('All','통합검색',1); return false;\">통합검색</a></td></tr>\n<tr><td><a class=\"blue02\" href=\"#\" onclick=\"javascript:searchTargetChange('Book','국내도서',1); return false;\">국내도서</a></td></tr>\n<tr><td><a class=\"blue02\" href=\"#\" onclick=\"javascript:searchTargetChange('Foreign','외국도서',1); return false;\">외국도서</a></td></tr>\n<tr><td><a class=\"blue02\" href=\"#\" onclick=\"javascript:searchTargetChange('EBook','eBook',1); return false;\">eBook</a></td></tr>\n<tr><td><a class=\"blue02\" href=\"#\" onclick=\"javascript:searchTargetChange('Gift','알라딘굿즈',1); return false;\">알라딘굿즈</a></td></tr>\n<tr><td><a class=\"blue02\" href=\"#\" onclick=\"javascript:searchTargetChange('Used','온라인중고',1); return false;\">온라인중고</a></td></tr>\n<tr><td><a class=\"blue02\" href=\"#\" onclick=\"javascript:searchTargetChange('UsedStore','중고매장',1); return false;\">중고매장</a></td></tr>\n<tr><td><a class=\"blue02\" href=\"#\" onclick=\"javascript:searchTargetChange('Coffee','커피',1); return false;\">커피</a></td></tr>\n<tr><td><a class=\"blue02\" href=\"#\" onclick=\"javascript:searchTargetChange('Music','음반',1); return false;\">음반</a></td></tr>\n<tr><td><a class=\"blue02\" href=\"#\" onclick=\"javascript:searchTargetChange('DVD','DVD/BD',1); return false;\">DVD/BD</a></td></tr>\n<tr><td><img src=\"/ucl_editor/img_secur/header/2011/eventlayer_se.gif\"/></td></tr>\n<tr><td><a class=\"blue02\" href=\"#\" onclick=\"javascript:searchTargetChange('Talktalk','서재검색',1); return false;\">서재검색</a></td></tr>\n<tr><td><a class=\"blue02\" href=\"#\" onclick=\"javascript:searchTargetChange('Tag','서재태그',1); return false;\">서재태그</a></td></tr>\n<tr><td><a class=\"blue02\" href=\"#\" onclick=\"javascript:searchTargetChange('MyReview','마이리뷰',1); return false;\">마이리뷰</a></td></tr>\n<tr><td><a class=\"blue02\" href=\"#\" onclick=\"javascript:searchTargetChange('MyList','마이리스트',1); return false;\">마이리스트</a></td></tr>\n<tr><td><a class=\"blue02\" href=\"#\" onclick=\"javascript:searchTargetChange('MyPaper','마이페이퍼',1); return false;\">마이페이퍼</a></td></tr>\n<tr><td><a class=\"blue02\" href=\"#\" onclick=\"javascript:searchTargetChange('MyLibrary','서재',1); return false;\">서재</a></td></tr>\n</table>\n</div>\n</div>\n<!-- 검색 입력 -->\n<div class=\"box_ip\">\n<input class=\"sebox\" id=\"footer_SearchWord\" name=\"SearchWord\" style=\"ime-mode:active;\" type=\"text\"/>\n<input name=\"SearchType\" type=\"hidden\" value=\"KeyWord\">\n<input id=\"footer_SearchTarget\" name=\"SearchTarget\" type=\"hidden\" value=\"Book\">\n</input></input></div>\n<div style=\"float:left\">\n<input alt=\"검색\" border=\"0\" onmouseout=\"this.src='//image.aladin.co.kr/img/footer/2011/search_bu_2.gif'\" onmouseover=\"this.src='//image.aladin.co.kr/img/footer/2011/search_bu_on_2.gif'\" src=\"//image.aladin.co.kr/img/footer/2011/search_bu_2.gif\" type=\"image\"/>\n<a href=\"http://www.aladin.co.kr/search/wsearch.aspx?SearchTarget=Book\"><img alt=\"상세검색\" border=\"0\" src=\"//image.aladin.co.kr/img/footer/2011/search_detail_2.gif\" style=\"padding: 0 0 0 6px\"/></a>\n</div>\n</div>\n<div style=\"clear:both;\"></div>\n</form>\n</div>\n<div class=\"nfoot_w\">\n<!-- 검색 대상 선택 -->\n<div class=\"box_sp1\" id=\"searchTargetDropDownBtnF\">\n<a href=\"#\" id=\"searchTargetDesc2\">국내도서</a>\n<div id=\"searchTargetDropDown2\" style=\"display:none;position:absolute;margin-top:-400px;margin-top:-410px\\9;\">\n<table cellpadding=\"0\" cellspacing=\"2\" style=\"border:2px solid #5397D0;\" width=\"88px;\">\n<tr><td><a class=\"blue02\" href=\"#\" onclick=\"javascript:searchTargetChange('All','통합검색',1); return false;\">통합검색</a></td></tr>\n<tr><td><a class=\"blue02\" href=\"#\" onclick=\"javascript:searchTargetChange('Book','국내도서',1); return false;\">국내도서</a></td></tr>\n<tr><td><a class=\"blue02\" href=\"#\" onclick=\"javascript:searchTargetChange('Foreign','외국도서',1); return false;\">외국도서</a></td></tr>\n<tr><td><a class=\"blue02\" href=\"#\" onclick=\"javascript:searchTargetChange('EBook','eBook',1); return false;\">eBook</a></td></tr>\n<tr><td><a class=\"blue02\" href=\"#\" onclick=\"javascript:searchTargetChange('Gift','알라딘굿즈',1); return false;\">알라딘굿즈</a></td></tr>\n<tr><td><a class=\"blue02\" href=\"#\" onclick=\"javascript:searchTargetChange('Used','온라인중고',1); return false;\">온라인중고</a></td></tr>\n<tr><td><a class=\"blue02\" href=\"#\" onclick=\"javascript:searchTargetChange('UsedStore','중고매장',1); return false;\">중고매장</a></td></tr>\n<tr><td><a class=\"blue02\" href=\"#\" onclick=\"javascript:searchTargetChange('Coffee','커피',1); return false;\">커피</a></td></tr>\n<tr><td><a class=\"blue02\" href=\"#\" onclick=\"javascript:searchTargetChange('Music','음반',1); return false;\">음반</a></td></tr>\n<tr><td><a class=\"blue02\" href=\"#\" onclick=\"javascript:searchTargetChange('DVD','DVD/BD',1); return false;\">DVD/BD</a></td></tr>\n<tr><td><img src=\"/ucl_editor/img_secur/header/2011/eventlayer_se.gif\"/></td></tr>\n<tr><td><a class=\"blue02\" href=\"#\" onclick=\"javascript:searchTargetChange('Talktalk','서재검색',1); return false;\">서재검색</a></td></tr>\n<tr><td><a class=\"blue02\" href=\"#\" onclick=\"javascript:searchTargetChange('Tag','서재태그',1); return false;\">서재태그</a></td></tr>\n<tr><td><a class=\"blue02\" href=\"#\" onclick=\"javascript:searchTargetChange('MyReview','마이리뷰',1); return false;\">마이리뷰</a></td></tr>\n<tr><td><a class=\"blue02\" href=\"#\" onclick=\"javascript:searchTargetChange('MyList','마이리스트',1); return false;\">마이리스트</a></td></tr>\n<tr><td><a class=\"blue02\" href=\"#\" onclick=\"javascript:searchTargetChange('MyPaper','마이페이퍼',1); return false;\">마이페이퍼</a></td></tr>\n<tr><td><a class=\"blue02\" href=\"#\" onclick=\"javascript:searchTargetChange('MyLibrary','서재',1); return false;\">서재</a></td></tr>\n</table>\n</div>\n</div>\n<!-- 검색 입력 -->\n<div class=\"box_ip\">\n<input class=\"sebox\" id=\"footer_SearchWord\" name=\"SearchWord\" style=\"ime-mode:active;\" type=\"text\"/>\n<input name=\"SearchType\" type=\"hidden\" value=\"KeyWord\">\n<input id=\"footer_SearchTarget\" name=\"SearchTarget\" type=\"hidden\" value=\"Book\">\n</input></input></div>\n<div style=\"float:left\">\n<input alt=\"검색\" border=\"0\" onmouseout=\"this.src='//image.aladin.co.kr/img/footer/2011/search_bu_2.gif'\" onmouseover=\"this.src='//image.aladin.co.kr/img/footer/2011/search_bu_on_2.gif'\" src=\"//image.aladin.co.kr/img/footer/2011/search_bu_2.gif\" type=\"image\"/>\n<a href=\"http://www.aladin.co.kr/search/wsearch.aspx?SearchTarget=Book\"><img alt=\"상세검색\" border=\"0\" src=\"//image.aladin.co.kr/img/footer/2011/search_detail_2.gif\" style=\"padding: 0 0 0 6px\"/></a>\n</div>\n</div>\n<div class=\"box_sp1\" id=\"searchTargetDropDownBtnF\">\n<a href=\"#\" id=\"searchTargetDesc2\">국내도서</a>\n<div id=\"searchTargetDropDown2\" style=\"display:none;position:absolute;margin-top:-400px;margin-top:-410px\\9;\">\n<table cellpadding=\"0\" cellspacing=\"2\" style=\"border:2px solid #5397D0;\" width=\"88px;\">\n<tr><td><a class=\"blue02\" href=\"#\" onclick=\"javascript:searchTargetChange('All','통합검색',1); return false;\">통합검색</a></td></tr>\n<tr><td><a class=\"blue02\" href=\"#\" onclick=\"javascript:searchTargetChange('Book','국내도서',1); return false;\">국내도서</a></td></tr>\n<tr><td><a class=\"blue02\" href=\"#\" onclick=\"javascript:searchTargetChange('Foreign','외국도서',1); return false;\">외국도서</a></td></tr>\n<tr><td><a class=\"blue02\" href=\"#\" onclick=\"javascript:searchTargetChange('EBook','eBook',1); return false;\">eBook</a></td></tr>\n<tr><td><a class=\"blue02\" href=\"#\" onclick=\"javascript:searchTargetChange('Gift','알라딘굿즈',1); return false;\">알라딘굿즈</a></td></tr>\n<tr><td><a class=\"blue02\" href=\"#\" onclick=\"javascript:searchTargetChange('Used','온라인중고',1); return false;\">온라인중고</a></td></tr>\n<tr><td><a class=\"blue02\" href=\"#\" onclick=\"javascript:searchTargetChange('UsedStore','중고매장',1); return false;\">중고매장</a></td></tr>\n<tr><td><a class=\"blue02\" href=\"#\" onclick=\"javascript:searchTargetChange('Coffee','커피',1); return false;\">커피</a></td></tr>\n<tr><td><a class=\"blue02\" href=\"#\" onclick=\"javascript:searchTargetChange('Music','음반',1); return false;\">음반</a></td></tr>\n<tr><td><a class=\"blue02\" href=\"#\" onclick=\"javascript:searchTargetChange('DVD','DVD/BD',1); return false;\">DVD/BD</a></td></tr>\n<tr><td><img src=\"/ucl_editor/img_secur/header/2011/eventlayer_se.gif\"/></td></tr>\n<tr><td><a class=\"blue02\" href=\"#\" onclick=\"javascript:searchTargetChange('Talktalk','서재검색',1); return false;\">서재검색</a></td></tr>\n<tr><td><a class=\"blue02\" href=\"#\" onclick=\"javascript:searchTargetChange('Tag','서재태그',1); return false;\">서재태그</a></td></tr>\n<tr><td><a class=\"blue02\" href=\"#\" onclick=\"javascript:searchTargetChange('MyReview','마이리뷰',1); return false;\">마이리뷰</a></td></tr>\n<tr><td><a class=\"blue02\" href=\"#\" onclick=\"javascript:searchTargetChange('MyList','마이리스트',1); return false;\">마이리스트</a></td></tr>\n<tr><td><a class=\"blue02\" href=\"#\" onclick=\"javascript:searchTargetChange('MyPaper','마이페이퍼',1); return false;\">마이페이퍼</a></td></tr>\n<tr><td><a class=\"blue02\" href=\"#\" onclick=\"javascript:searchTargetChange('MyLibrary','서재',1); return false;\">서재</a></td></tr>\n</table>\n</div>\n</div>\n<div id=\"searchTargetDropDown2\" style=\"display:none;position:absolute;margin-top:-400px;margin-top:-410px\\9;\">\n<table cellpadding=\"0\" cellspacing=\"2\" style=\"border:2px solid #5397D0;\" width=\"88px;\">\n<tr><td><a class=\"blue02\" href=\"#\" onclick=\"javascript:searchTargetChange('All','통합검색',1); return false;\">통합검색</a></td></tr>\n<tr><td><a class=\"blue02\" href=\"#\" onclick=\"javascript:searchTargetChange('Book','국내도서',1); return false;\">국내도서</a></td></tr>\n<tr><td><a class=\"blue02\" href=\"#\" onclick=\"javascript:searchTargetChange('Foreign','외국도서',1); return false;\">외국도서</a></td></tr>\n<tr><td><a class=\"blue02\" href=\"#\" onclick=\"javascript:searchTargetChange('EBook','eBook',1); return false;\">eBook</a></td></tr>\n<tr><td><a class=\"blue02\" href=\"#\" onclick=\"javascript:searchTargetChange('Gift','알라딘굿즈',1); return false;\">알라딘굿즈</a></td></tr>\n<tr><td><a class=\"blue02\" href=\"#\" onclick=\"javascript:searchTargetChange('Used','온라인중고',1); return false;\">온라인중고</a></td></tr>\n<tr><td><a class=\"blue02\" href=\"#\" onclick=\"javascript:searchTargetChange('UsedStore','중고매장',1); return false;\">중고매장</a></td></tr>\n<tr><td><a class=\"blue02\" href=\"#\" onclick=\"javascript:searchTargetChange('Coffee','커피',1); return false;\">커피</a></td></tr>\n<tr><td><a class=\"blue02\" href=\"#\" onclick=\"javascript:searchTargetChange('Music','음반',1); return false;\">음반</a></td></tr>\n<tr><td><a class=\"blue02\" href=\"#\" onclick=\"javascript:searchTargetChange('DVD','DVD/BD',1); return false;\">DVD/BD</a></td></tr>\n<tr><td><img src=\"/ucl_editor/img_secur/header/2011/eventlayer_se.gif\"/></td></tr>\n<tr><td><a class=\"blue02\" href=\"#\" onclick=\"javascript:searchTargetChange('Talktalk','서재검색',1); return false;\">서재검색</a></td></tr>\n<tr><td><a class=\"blue02\" href=\"#\" onclick=\"javascript:searchTargetChange('Tag','서재태그',1); return false;\">서재태그</a></td></tr>\n<tr><td><a class=\"blue02\" href=\"#\" onclick=\"javascript:searchTargetChange('MyReview','마이리뷰',1); return false;\">마이리뷰</a></td></tr>\n<tr><td><a class=\"blue02\" href=\"#\" onclick=\"javascript:searchTargetChange('MyList','마이리스트',1); return false;\">마이리스트</a></td></tr>\n<tr><td><a class=\"blue02\" href=\"#\" onclick=\"javascript:searchTargetChange('MyPaper','마이페이퍼',1); return false;\">마이페이퍼</a></td></tr>\n<tr><td><a class=\"blue02\" href=\"#\" onclick=\"javascript:searchTargetChange('MyLibrary','서재',1); return false;\">서재</a></td></tr>\n</table>\n</div>\n<div class=\"box_ip\">\n<input class=\"sebox\" id=\"footer_SearchWord\" name=\"SearchWord\" style=\"ime-mode:active;\" type=\"text\"/>\n<input name=\"SearchType\" type=\"hidden\" value=\"KeyWord\">\n<input id=\"footer_SearchTarget\" name=\"SearchTarget\" type=\"hidden\" value=\"Book\">\n</input></input></div>\n<div style=\"float:left\">\n<input alt=\"검색\" border=\"0\" onmouseout=\"this.src='//image.aladin.co.kr/img/footer/2011/search_bu_2.gif'\" onmouseover=\"this.src='//image.aladin.co.kr/img/footer/2011/search_bu_on_2.gif'\" src=\"//image.aladin.co.kr/img/footer/2011/search_bu_2.gif\" type=\"image\"/>\n<a href=\"http://www.aladin.co.kr/search/wsearch.aspx?SearchTarget=Book\"><img alt=\"상세검색\" border=\"0\" src=\"//image.aladin.co.kr/img/footer/2011/search_detail_2.gif\" style=\"padding: 0 0 0 6px\"/></a>\n</div>\n<div style=\"clear:both;\"></div>\n<div style=\"clear:both;\"></div>\n<div class=\"footer_wrap\">\n<div class=\"corp_logo\"><a href=\"https://www.aladin.co.kr/home/welcome.aspx\"><img alt=\"알라딘\" border=\"0\" src=\"//image.aladin.co.kr/img/footer/2013/foot_aladin_01.gif\"/></a></div>\n<div class=\"corp_info1\">\n<h3>(주)알라딘커뮤니케이션</h3>\n<ul class=\"info_contact\">\n<li>대표이사 : 최우경</li>\n<li>고객정보보호 책임자 : 최우경</li>\n<li>FAX : 02-6913-2500</li>\n<li>E-mail : privacy@aladin.co.kr</li>\n<li>사업자등록 : <a class=\"footer_blue\" href=\"javascript:fn_ftc_check();\">201-81-23094</a></li>\n<li>통신판매업신고 : 중구01520호</li>\n<li style=\"clear:left; width:100%\">호스팅 제공자 : 알라딘커뮤니케이션</li>\n<li style=\"clear:left; width:100%\">(본사) 서울시 중구 서소문로 26 <a class=\"footer_blue\" href=\"http://www.aladin.co.kr/aladdin/waladdin.aspx?pn=contactus\">약도</a> ㅣ (중고매장) <a class=\"footer_blue\" href=\"https://www.aladin.co.kr/usedstore/wgate.aspx\">자세히보기</a></li>\n</ul>\n<div class=\"info_copyright\">ⓒ Aladin Communication. All Rights Reserved.</div>\n</div>\n<div class=\"corp_info2\">\n<div class=\"info_call \">고객센터 일반문의 (발신자 부담) <span>1544-2514</span>\n<div>\n<p class=\"contact_one\"><a href=\"https://www.aladin.co.kr/cs_center/wcs_ConsultQS.aspx?NoLoginQ=1\">1:1 문의</a></p><p class=\"list_faq\" style=\"margin-left:5px;\"><a href=\"https://www.aladin.co.kr/cs_center/wcs_faq_list.aspx\">FAQ</a></p>\n</div>\n</div>\n<div class=\"info_call \">중고샵/매장문의(해피콜) <span>02-364-8947</span><p class=\"list_store\"><a href=\"https://www.aladin.co.kr/usedstore/wgate.aspx\">중고매장 위치, 영업시간 안내</a></p></div>\n<div class=\"escrow_sub\">구매안전 에스크로 서비스 : <a class=\"footer_blue\" href=\"javascript:fn_kcp_es_check();\">서비스 가입 확인</a></div>\n</div>\n</div>\n<div class=\"corp_logo\"><a href=\"https://www.aladin.co.kr/home/welcome.aspx\"><img alt=\"알라딘\" border=\"0\" src=\"//image.aladin.co.kr/img/footer/2013/foot_aladin_01.gif\"/></a></div>\n<div class=\"corp_info1\">\n<h3>(주)알라딘커뮤니케이션</h3>\n<ul class=\"info_contact\">\n<li>대표이사 : 최우경</li>\n<li>고객정보보호 책임자 : 최우경</li>\n<li>FAX : 02-6913-2500</li>\n<li>E-mail : privacy@aladin.co.kr</li>\n<li>사업자등록 : <a class=\"footer_blue\" href=\"javascript:fn_ftc_check();\">201-81-23094</a></li>\n<li>통신판매업신고 : 중구01520호</li>\n<li style=\"clear:left; width:100%\">호스팅 제공자 : 알라딘커뮤니케이션</li>\n<li style=\"clear:left; width:100%\">(본사) 서울시 중구 서소문로 26 <a class=\"footer_blue\" href=\"http://www.aladin.co.kr/aladdin/waladdin.aspx?pn=contactus\">약도</a> ㅣ (중고매장) <a class=\"footer_blue\" href=\"https://www.aladin.co.kr/usedstore/wgate.aspx\">자세히보기</a></li>\n</ul>\n<div class=\"info_copyright\">ⓒ Aladin Communication. All Rights Reserved.</div>\n</div>\n<div class=\"info_copyright\">ⓒ Aladin Communication. All Rights Reserved.</div>\n<div class=\"corp_info2\">\n<div class=\"info_call \">고객센터 일반문의 (발신자 부담) <span>1544-2514</span>\n<div>\n<p class=\"contact_one\"><a href=\"https://www.aladin.co.kr/cs_center/wcs_ConsultQS.aspx?NoLoginQ=1\">1:1 문의</a></p><p class=\"list_faq\" style=\"margin-left:5px;\"><a href=\"https://www.aladin.co.kr/cs_center/wcs_faq_list.aspx\">FAQ</a></p>\n</div>\n</div>\n<div class=\"info_call \">중고샵/매장문의(해피콜) <span>02-364-8947</span><p class=\"list_store\"><a href=\"https://www.aladin.co.kr/usedstore/wgate.aspx\">중고매장 위치, 영업시간 안내</a></p></div>\n<div class=\"escrow_sub\">구매안전 에스크로 서비스 : <a class=\"footer_blue\" href=\"javascript:fn_kcp_es_check();\">서비스 가입 확인</a></div>\n</div>\n<div class=\"info_call \">고객센터 일반문의 (발신자 부담) <span>1544-2514</span>\n<div>\n<p class=\"contact_one\"><a href=\"https://www.aladin.co.kr/cs_center/wcs_ConsultQS.aspx?NoLoginQ=1\">1:1 문의</a></p><p class=\"list_faq\" style=\"margin-left:5px;\"><a href=\"https://www.aladin.co.kr/cs_center/wcs_faq_list.aspx\">FAQ</a></p>\n</div>\n</div>\n<div>\n<p class=\"contact_one\"><a href=\"https://www.aladin.co.kr/cs_center/wcs_ConsultQS.aspx?NoLoginQ=1\">1:1 문의</a></p><p class=\"list_faq\" style=\"margin-left:5px;\"><a href=\"https://www.aladin.co.kr/cs_center/wcs_faq_list.aspx\">FAQ</a></p>\n</div>\n<div class=\"info_call \">중고샵/매장문의(해피콜) <span>02-364-8947</span><p class=\"list_store\"><a href=\"https://www.aladin.co.kr/usedstore/wgate.aspx\">중고매장 위치, 영업시간 안내</a></p></div>\n<div class=\"escrow_sub\">구매안전 에스크로 서비스 : <a class=\"footer_blue\" href=\"javascript:fn_kcp_es_check();\">서비스 가입 확인</a></div>\n<div style=\"clear:both;height:20px;\"></div>\n"
    }
   ],
   "source": [
    "\n",
    "for i in bsObject.find_all('div'):\n",
    "    print(i)"
   ]
  },
  {
   "cell_type": "code",
   "execution_count": null,
   "metadata": {},
   "outputs": [],
   "source": []
  }
 ]
}